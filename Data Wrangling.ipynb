{
 "cells": [
  {
   "cell_type": "markdown",
   "id": "e725faa4",
   "metadata": {},
   "source": [
    "# Data Wrangling"
   ]
  },
  {
   "cell_type": "code",
   "execution_count": 1,
   "id": "9e33ccdf",
   "metadata": {},
   "outputs": [],
   "source": [
    "import pandas as pd\n",
    "import numpy as np"
   ]
  },
  {
   "cell_type": "markdown",
   "id": "84e6769e",
   "metadata": {},
   "source": [
    "## Data Analysis"
   ]
  },
  {
   "cell_type": "code",
   "execution_count": 2,
   "id": "8aa8733b",
   "metadata": {},
   "outputs": [
    {
     "data": {
      "text/html": [
       "<div>\n",
       "<style scoped>\n",
       "    .dataframe tbody tr th:only-of-type {\n",
       "        vertical-align: middle;\n",
       "    }\n",
       "\n",
       "    .dataframe tbody tr th {\n",
       "        vertical-align: top;\n",
       "    }\n",
       "\n",
       "    .dataframe thead th {\n",
       "        text-align: right;\n",
       "    }\n",
       "</style>\n",
       "<table border=\"1\" class=\"dataframe\">\n",
       "  <thead>\n",
       "    <tr style=\"text-align: right;\">\n",
       "      <th></th>\n",
       "      <th>FlightNumber</th>\n",
       "      <th>Date</th>\n",
       "      <th>BoosterVersion</th>\n",
       "      <th>PayloadMass</th>\n",
       "      <th>Orbit</th>\n",
       "      <th>LaunchSite</th>\n",
       "      <th>Outcome</th>\n",
       "      <th>Flights</th>\n",
       "      <th>GridFins</th>\n",
       "      <th>Reused</th>\n",
       "      <th>Legs</th>\n",
       "      <th>LandingPad</th>\n",
       "      <th>Block</th>\n",
       "      <th>ReusedCount</th>\n",
       "      <th>Serial</th>\n",
       "      <th>Longitude</th>\n",
       "      <th>Latitude</th>\n",
       "    </tr>\n",
       "  </thead>\n",
       "  <tbody>\n",
       "    <tr>\n",
       "      <th>0</th>\n",
       "      <td>1</td>\n",
       "      <td>2010-06-04</td>\n",
       "      <td>Falcon 9</td>\n",
       "      <td>6104.959412</td>\n",
       "      <td>LEO</td>\n",
       "      <td>CCAFS SLC 40</td>\n",
       "      <td>None None</td>\n",
       "      <td>1</td>\n",
       "      <td>False</td>\n",
       "      <td>False</td>\n",
       "      <td>False</td>\n",
       "      <td>NaN</td>\n",
       "      <td>1.0</td>\n",
       "      <td>0</td>\n",
       "      <td>B0003</td>\n",
       "      <td>-80.577366</td>\n",
       "      <td>28.561857</td>\n",
       "    </tr>\n",
       "    <tr>\n",
       "      <th>1</th>\n",
       "      <td>2</td>\n",
       "      <td>2012-05-22</td>\n",
       "      <td>Falcon 9</td>\n",
       "      <td>525.000000</td>\n",
       "      <td>LEO</td>\n",
       "      <td>CCAFS SLC 40</td>\n",
       "      <td>None None</td>\n",
       "      <td>1</td>\n",
       "      <td>False</td>\n",
       "      <td>False</td>\n",
       "      <td>False</td>\n",
       "      <td>NaN</td>\n",
       "      <td>1.0</td>\n",
       "      <td>0</td>\n",
       "      <td>B0005</td>\n",
       "      <td>-80.577366</td>\n",
       "      <td>28.561857</td>\n",
       "    </tr>\n",
       "    <tr>\n",
       "      <th>2</th>\n",
       "      <td>3</td>\n",
       "      <td>2013-03-01</td>\n",
       "      <td>Falcon 9</td>\n",
       "      <td>677.000000</td>\n",
       "      <td>ISS</td>\n",
       "      <td>CCAFS SLC 40</td>\n",
       "      <td>None None</td>\n",
       "      <td>1</td>\n",
       "      <td>False</td>\n",
       "      <td>False</td>\n",
       "      <td>False</td>\n",
       "      <td>NaN</td>\n",
       "      <td>1.0</td>\n",
       "      <td>0</td>\n",
       "      <td>B0007</td>\n",
       "      <td>-80.577366</td>\n",
       "      <td>28.561857</td>\n",
       "    </tr>\n",
       "    <tr>\n",
       "      <th>3</th>\n",
       "      <td>4</td>\n",
       "      <td>2013-09-29</td>\n",
       "      <td>Falcon 9</td>\n",
       "      <td>500.000000</td>\n",
       "      <td>PO</td>\n",
       "      <td>VAFB SLC 4E</td>\n",
       "      <td>False Ocean</td>\n",
       "      <td>1</td>\n",
       "      <td>False</td>\n",
       "      <td>False</td>\n",
       "      <td>False</td>\n",
       "      <td>NaN</td>\n",
       "      <td>1.0</td>\n",
       "      <td>0</td>\n",
       "      <td>B1003</td>\n",
       "      <td>-120.610829</td>\n",
       "      <td>34.632093</td>\n",
       "    </tr>\n",
       "    <tr>\n",
       "      <th>4</th>\n",
       "      <td>5</td>\n",
       "      <td>2013-12-03</td>\n",
       "      <td>Falcon 9</td>\n",
       "      <td>3170.000000</td>\n",
       "      <td>GTO</td>\n",
       "      <td>CCAFS SLC 40</td>\n",
       "      <td>None None</td>\n",
       "      <td>1</td>\n",
       "      <td>False</td>\n",
       "      <td>False</td>\n",
       "      <td>False</td>\n",
       "      <td>NaN</td>\n",
       "      <td>1.0</td>\n",
       "      <td>0</td>\n",
       "      <td>B1004</td>\n",
       "      <td>-80.577366</td>\n",
       "      <td>28.561857</td>\n",
       "    </tr>\n",
       "    <tr>\n",
       "      <th>...</th>\n",
       "      <td>...</td>\n",
       "      <td>...</td>\n",
       "      <td>...</td>\n",
       "      <td>...</td>\n",
       "      <td>...</td>\n",
       "      <td>...</td>\n",
       "      <td>...</td>\n",
       "      <td>...</td>\n",
       "      <td>...</td>\n",
       "      <td>...</td>\n",
       "      <td>...</td>\n",
       "      <td>...</td>\n",
       "      <td>...</td>\n",
       "      <td>...</td>\n",
       "      <td>...</td>\n",
       "      <td>...</td>\n",
       "      <td>...</td>\n",
       "    </tr>\n",
       "    <tr>\n",
       "      <th>85</th>\n",
       "      <td>86</td>\n",
       "      <td>2020-09-03</td>\n",
       "      <td>Falcon 9</td>\n",
       "      <td>15400.000000</td>\n",
       "      <td>VLEO</td>\n",
       "      <td>KSC LC 39A</td>\n",
       "      <td>True ASDS</td>\n",
       "      <td>2</td>\n",
       "      <td>True</td>\n",
       "      <td>True</td>\n",
       "      <td>True</td>\n",
       "      <td>5e9e3032383ecb6bb234e7ca</td>\n",
       "      <td>5.0</td>\n",
       "      <td>2</td>\n",
       "      <td>B1060</td>\n",
       "      <td>-80.603956</td>\n",
       "      <td>28.608058</td>\n",
       "    </tr>\n",
       "    <tr>\n",
       "      <th>86</th>\n",
       "      <td>87</td>\n",
       "      <td>2020-10-06</td>\n",
       "      <td>Falcon 9</td>\n",
       "      <td>15400.000000</td>\n",
       "      <td>VLEO</td>\n",
       "      <td>KSC LC 39A</td>\n",
       "      <td>True ASDS</td>\n",
       "      <td>3</td>\n",
       "      <td>True</td>\n",
       "      <td>True</td>\n",
       "      <td>True</td>\n",
       "      <td>5e9e3032383ecb6bb234e7ca</td>\n",
       "      <td>5.0</td>\n",
       "      <td>2</td>\n",
       "      <td>B1058</td>\n",
       "      <td>-80.603956</td>\n",
       "      <td>28.608058</td>\n",
       "    </tr>\n",
       "    <tr>\n",
       "      <th>87</th>\n",
       "      <td>88</td>\n",
       "      <td>2020-10-18</td>\n",
       "      <td>Falcon 9</td>\n",
       "      <td>15400.000000</td>\n",
       "      <td>VLEO</td>\n",
       "      <td>KSC LC 39A</td>\n",
       "      <td>True ASDS</td>\n",
       "      <td>6</td>\n",
       "      <td>True</td>\n",
       "      <td>True</td>\n",
       "      <td>True</td>\n",
       "      <td>5e9e3032383ecb6bb234e7ca</td>\n",
       "      <td>5.0</td>\n",
       "      <td>5</td>\n",
       "      <td>B1051</td>\n",
       "      <td>-80.603956</td>\n",
       "      <td>28.608058</td>\n",
       "    </tr>\n",
       "    <tr>\n",
       "      <th>88</th>\n",
       "      <td>89</td>\n",
       "      <td>2020-10-24</td>\n",
       "      <td>Falcon 9</td>\n",
       "      <td>15400.000000</td>\n",
       "      <td>VLEO</td>\n",
       "      <td>CCAFS SLC 40</td>\n",
       "      <td>True ASDS</td>\n",
       "      <td>3</td>\n",
       "      <td>True</td>\n",
       "      <td>True</td>\n",
       "      <td>True</td>\n",
       "      <td>5e9e3033383ecbb9e534e7cc</td>\n",
       "      <td>5.0</td>\n",
       "      <td>2</td>\n",
       "      <td>B1060</td>\n",
       "      <td>-80.577366</td>\n",
       "      <td>28.561857</td>\n",
       "    </tr>\n",
       "    <tr>\n",
       "      <th>89</th>\n",
       "      <td>90</td>\n",
       "      <td>2020-11-05</td>\n",
       "      <td>Falcon 9</td>\n",
       "      <td>3681.000000</td>\n",
       "      <td>MEO</td>\n",
       "      <td>CCAFS SLC 40</td>\n",
       "      <td>True ASDS</td>\n",
       "      <td>1</td>\n",
       "      <td>True</td>\n",
       "      <td>False</td>\n",
       "      <td>True</td>\n",
       "      <td>5e9e3032383ecb6bb234e7ca</td>\n",
       "      <td>5.0</td>\n",
       "      <td>0</td>\n",
       "      <td>B1062</td>\n",
       "      <td>-80.577366</td>\n",
       "      <td>28.561857</td>\n",
       "    </tr>\n",
       "  </tbody>\n",
       "</table>\n",
       "<p>90 rows × 17 columns</p>\n",
       "</div>"
      ],
      "text/plain": [
       "    FlightNumber        Date BoosterVersion   PayloadMass Orbit    LaunchSite  \\\n",
       "0              1  2010-06-04       Falcon 9   6104.959412   LEO  CCAFS SLC 40   \n",
       "1              2  2012-05-22       Falcon 9    525.000000   LEO  CCAFS SLC 40   \n",
       "2              3  2013-03-01       Falcon 9    677.000000   ISS  CCAFS SLC 40   \n",
       "3              4  2013-09-29       Falcon 9    500.000000    PO   VAFB SLC 4E   \n",
       "4              5  2013-12-03       Falcon 9   3170.000000   GTO  CCAFS SLC 40   \n",
       "..           ...         ...            ...           ...   ...           ...   \n",
       "85            86  2020-09-03       Falcon 9  15400.000000  VLEO    KSC LC 39A   \n",
       "86            87  2020-10-06       Falcon 9  15400.000000  VLEO    KSC LC 39A   \n",
       "87            88  2020-10-18       Falcon 9  15400.000000  VLEO    KSC LC 39A   \n",
       "88            89  2020-10-24       Falcon 9  15400.000000  VLEO  CCAFS SLC 40   \n",
       "89            90  2020-11-05       Falcon 9   3681.000000   MEO  CCAFS SLC 40   \n",
       "\n",
       "        Outcome  Flights  GridFins  Reused   Legs                LandingPad  \\\n",
       "0     None None        1     False   False  False                       NaN   \n",
       "1     None None        1     False   False  False                       NaN   \n",
       "2     None None        1     False   False  False                       NaN   \n",
       "3   False Ocean        1     False   False  False                       NaN   \n",
       "4     None None        1     False   False  False                       NaN   \n",
       "..          ...      ...       ...     ...    ...                       ...   \n",
       "85    True ASDS        2      True    True   True  5e9e3032383ecb6bb234e7ca   \n",
       "86    True ASDS        3      True    True   True  5e9e3032383ecb6bb234e7ca   \n",
       "87    True ASDS        6      True    True   True  5e9e3032383ecb6bb234e7ca   \n",
       "88    True ASDS        3      True    True   True  5e9e3033383ecbb9e534e7cc   \n",
       "89    True ASDS        1      True   False   True  5e9e3032383ecb6bb234e7ca   \n",
       "\n",
       "    Block  ReusedCount Serial   Longitude   Latitude  \n",
       "0     1.0            0  B0003  -80.577366  28.561857  \n",
       "1     1.0            0  B0005  -80.577366  28.561857  \n",
       "2     1.0            0  B0007  -80.577366  28.561857  \n",
       "3     1.0            0  B1003 -120.610829  34.632093  \n",
       "4     1.0            0  B1004  -80.577366  28.561857  \n",
       "..    ...          ...    ...         ...        ...  \n",
       "85    5.0            2  B1060  -80.603956  28.608058  \n",
       "86    5.0            2  B1058  -80.603956  28.608058  \n",
       "87    5.0            5  B1051  -80.603956  28.608058  \n",
       "88    5.0            2  B1060  -80.577366  28.561857  \n",
       "89    5.0            0  B1062  -80.577366  28.561857  \n",
       "\n",
       "[90 rows x 17 columns]"
      ]
     },
     "execution_count": 2,
     "metadata": {},
     "output_type": "execute_result"
    }
   ],
   "source": [
    "file_path = \"https://cf-courses-data.s3.us.cloud-object-storage.appdomain.cloud/IBM-DS0321EN-SkillsNetwork/datasets/dataset_part_1.csv\"\n",
    "df=pd.read_csv(file_path)\n",
    "df"
   ]
  },
  {
   "cell_type": "code",
   "execution_count": 3,
   "id": "38a29c9e",
   "metadata": {},
   "outputs": [
    {
     "data": {
      "text/plain": [
       "FlightNumber       0.000000\n",
       "Date               0.000000\n",
       "BoosterVersion     0.000000\n",
       "PayloadMass        0.000000\n",
       "Orbit              0.000000\n",
       "LaunchSite         0.000000\n",
       "Outcome            0.000000\n",
       "Flights            0.000000\n",
       "GridFins           0.000000\n",
       "Reused             0.000000\n",
       "Legs               0.000000\n",
       "LandingPad        28.888889\n",
       "Block              0.000000\n",
       "ReusedCount        0.000000\n",
       "Serial             0.000000\n",
       "Longitude          0.000000\n",
       "Latitude           0.000000\n",
       "dtype: float64"
      ]
     },
     "execution_count": 3,
     "metadata": {},
     "output_type": "execute_result"
    }
   ],
   "source": [
    "# Percentage of missing data\n",
    "df.isnull().sum()/len(df)*100"
   ]
  },
  {
   "cell_type": "code",
   "execution_count": 5,
   "id": "830411f0",
   "metadata": {},
   "outputs": [
    {
     "data": {
      "text/plain": [
       "FlightNumber        int64\n",
       "Date               object\n",
       "BoosterVersion     object\n",
       "PayloadMass       float64\n",
       "Orbit              object\n",
       "LaunchSite         object\n",
       "Outcome            object\n",
       "Flights             int64\n",
       "GridFins             bool\n",
       "Reused               bool\n",
       "Legs                 bool\n",
       "LandingPad         object\n",
       "Block             float64\n",
       "ReusedCount         int64\n",
       "Serial             object\n",
       "Longitude         float64\n",
       "Latitude          float64\n",
       "dtype: object"
      ]
     },
     "execution_count": 5,
     "metadata": {},
     "output_type": "execute_result"
    }
   ],
   "source": [
    "df.dtypes"
   ]
  },
  {
   "cell_type": "markdown",
   "id": "f9be9f7d",
   "metadata": {},
   "source": [
    "### TASK 1: \n",
    "* Calculate the number of launches on each site"
   ]
  },
  {
   "cell_type": "code",
   "execution_count": 6,
   "id": "f2703c6d",
   "metadata": {},
   "outputs": [
    {
     "data": {
      "text/plain": [
       "CCAFS SLC 40    55\n",
       "KSC LC 39A      22\n",
       "VAFB SLC 4E     13\n",
       "Name: LaunchSite, dtype: int64"
      ]
     },
     "execution_count": 6,
     "metadata": {},
     "output_type": "execute_result"
    }
   ],
   "source": [
    "df['LaunchSite'].value_counts()"
   ]
  },
  {
   "cell_type": "markdown",
   "id": "4e51eab7",
   "metadata": {},
   "source": [
    "### TASK 2: \n",
    "* Calculate the number and occurrence of each orbit"
   ]
  },
  {
   "cell_type": "code",
   "execution_count": 7,
   "id": "43934e93",
   "metadata": {},
   "outputs": [
    {
     "data": {
      "text/plain": [
       "GTO      27\n",
       "ISS      21\n",
       "VLEO     14\n",
       "PO        9\n",
       "LEO       7\n",
       "SSO       5\n",
       "MEO       3\n",
       "ES-L1     1\n",
       "HEO       1\n",
       "SO        1\n",
       "GEO       1\n",
       "Name: Orbit, dtype: int64"
      ]
     },
     "execution_count": 7,
     "metadata": {},
     "output_type": "execute_result"
    }
   ],
   "source": [
    "df['Orbit'].value_counts()"
   ]
  },
  {
   "cell_type": "markdown",
   "id": "316cb988",
   "metadata": {},
   "source": [
    "Common orbit types:\n",
    "* **LEO**: Low Earth orbit (LEO)is an Earth-centred orbit with an altitude of 2,000 km (1,200 mi) or less.\n",
    "* **VLEO**: Very Low Earth Orbits (VLEO) can be defined as the orbits with a mean altitude below 450 km. \n",
    "* **GTO**: A geosynchronous orbit is a high Earth orbit that allows satellites to match Earth's rotation. It's located at 22,236 miles (35,786 kilometers) above Earth's equator.\n",
    "* **SSO (or SO)**: It is a Sun-synchronous orbit  also called a heliosynchronous orbit is a nearly polar orbit around a planet, in which the satellite passes over any given point of the planet's surface at the same local mean solar time.    \n",
    "* **ES-L1**:At the Lagrange points, the gravitational forces of the two large bodies cancel out in such a way that a small object placed in orbit there is in equilibrium relative to the center of mass of the large bodies. \n",
    "* **HEO** A highly elliptical orbit is an elliptic orbit with high eccentricity.\n",
    "* **ISS**: A modular space station (habitable artificial satellite) in low Earth orbit. \n",
    "* **MEO**: Geocentric orbits ranging in altitude from 2,000 km (1,200 mi) to just below geosynchronous orbit at 35,786 kilometers (22,236 mi). \n",
    "* **HEO**: Geocentric orbits above the altitude of geosynchronous orbit (35,786 km or 22,236 mi).\n",
    "* **GEO**: It is a circular geosynchronous orbit 35,786 kilometres (22,236 miles) above Earth's equator and following the direction of Earth's rotation.\n",
    "* **PO**: It is one type of satellites in which a satellite passes above or nearly above both poles of the body being orbited."
   ]
  },
  {
   "cell_type": "markdown",
   "id": "3c8763ed",
   "metadata": {},
   "source": [
    "### TASK 3: \n",
    "* Calculate the number and occurence of mission outcome of the orbits"
   ]
  },
  {
   "cell_type": "code",
   "execution_count": 8,
   "id": "ee7fd1b8",
   "metadata": {},
   "outputs": [
    {
     "data": {
      "text/plain": [
       "True ASDS      41\n",
       "None None      19\n",
       "True RTLS      14\n",
       "False ASDS      6\n",
       "True Ocean      5\n",
       "False Ocean     2\n",
       "None ASDS       2\n",
       "False RTLS      1\n",
       "Name: Outcome, dtype: int64"
      ]
     },
     "execution_count": 8,
     "metadata": {},
     "output_type": "execute_result"
    }
   ],
   "source": [
    "landing_outcomes = df['Outcome'].value_counts()\n",
    "landing_outcomes"
   ]
  },
  {
   "cell_type": "markdown",
   "id": "d92c3669",
   "metadata": {},
   "source": [
    "* `True Ocean` means the mission outcome was successfully  landed to a specific region of the ocean. \n",
    "* `False Ocean` means the mission outcome was unsuccessfully landed to a specific region of the ocean. \n",
    "* `True RTLS` means the mission outcome was successfully  landed to a ground pad. \n",
    "* `False RTLS` means the mission outcome was unsuccessfully landed to a ground pad.\n",
    "* `True ASDS` means the mission outcome was successfully  landed to a drone ship \n",
    "* `False ASDS` means the mission outcome was unsuccessfully landed to a drone ship. \n",
    "* `None ASDS` and `None None` these represent a failure to land."
   ]
  },
  {
   "cell_type": "code",
   "execution_count": 9,
   "id": "f29029dc",
   "metadata": {},
   "outputs": [
    {
     "name": "stdout",
     "output_type": "stream",
     "text": [
      "0 True ASDS\n",
      "1 None None\n",
      "2 True RTLS\n",
      "3 False ASDS\n",
      "4 True Ocean\n",
      "5 False Ocean\n",
      "6 None ASDS\n",
      "7 False RTLS\n"
     ]
    }
   ],
   "source": [
    "for i, outcome in enumerate(landing_outcomes.keys()):\n",
    "    print(i, outcome)"
   ]
  },
  {
   "cell_type": "code",
   "execution_count": 10,
   "id": "960d38e6",
   "metadata": {},
   "outputs": [
    {
     "data": {
      "text/plain": [
       "{'False ASDS', 'False Ocean', 'False RTLS', 'None ASDS', 'None None'}"
      ]
     },
     "execution_count": 10,
     "metadata": {},
     "output_type": "execute_result"
    }
   ],
   "source": [
    "bad_outcomes = set(landing_outcomes.keys()[[1,3,5,6,7]])\n",
    "bad_outcomes"
   ]
  },
  {
   "cell_type": "markdown",
   "id": "fa8a8550",
   "metadata": {},
   "source": [
    "### TASK 4: \n",
    "* Create a landing outcome label from `Outcome` column"
   ]
  },
  {
   "cell_type": "code",
   "execution_count": 15,
   "id": "f9645fa2",
   "metadata": {},
   "outputs": [
    {
     "data": {
      "text/plain": [
       "array([0., 0., 0., 0., 0., 0., 1., 1., 0., 0., 0., 0., 1., 0., 0., 0., 1.,\n",
       "       0., 0., 1., 1., 1., 1., 1., 0., 1., 1., 0., 1., 1., 0., 1., 1., 1.,\n",
       "       0., 1., 1., 1., 1., 1., 1., 1., 1., 1., 1., 0., 0., 0., 1., 1., 0.,\n",
       "       0., 1., 1., 1., 1., 1., 1., 1., 0., 0., 1., 1., 1., 1., 1., 1., 0.,\n",
       "       1., 1., 1., 1., 0., 1., 0., 1., 0., 1., 1., 1., 1., 1., 1., 1., 1.,\n",
       "       1., 1., 1., 1., 1.])"
      ]
     },
     "execution_count": 15,
     "metadata": {},
     "output_type": "execute_result"
    }
   ],
   "source": [
    "landing_class = np.array([])\n",
    "\n",
    "for outcome in df['Outcome']:\n",
    "    if outcome in bad_outcomes:\n",
    "        landing_class = np.append(landing_class, 0)\n",
    "    else:\n",
    "        landing_class = np.append(landing_class, 1)"
   ]
  },
  {
   "cell_type": "code",
   "execution_count": 16,
   "id": "15c565da",
   "metadata": {},
   "outputs": [
    {
     "data": {
      "text/plain": [
       "0     0.0\n",
       "1     0.0\n",
       "2     0.0\n",
       "3     0.0\n",
       "4     0.0\n",
       "     ... \n",
       "85    1.0\n",
       "86    1.0\n",
       "87    1.0\n",
       "88    1.0\n",
       "89    1.0\n",
       "Name: Class, Length: 90, dtype: float64"
      ]
     },
     "execution_count": 16,
     "metadata": {},
     "output_type": "execute_result"
    }
   ],
   "source": [
    "df['Class'] = landing_class\n",
    "df['Class']"
   ]
  },
  {
   "cell_type": "code",
   "execution_count": 17,
   "id": "fb1b43a1",
   "metadata": {},
   "outputs": [
    {
     "data": {
      "text/plain": [
       "0.6666666666666666"
      ]
     },
     "execution_count": 17,
     "metadata": {},
     "output_type": "execute_result"
    }
   ],
   "source": [
    "# Success rate\n",
    "df['Class'].mean()"
   ]
  },
  {
   "cell_type": "code",
   "execution_count": 18,
   "id": "33cd606b",
   "metadata": {},
   "outputs": [],
   "source": [
    "df.to_csv(\"dataset_part_2.csv\", index=False)"
   ]
  },
  {
   "cell_type": "code",
   "execution_count": null,
   "id": "1103e81d",
   "metadata": {},
   "outputs": [],
   "source": []
  }
 ],
 "metadata": {
  "kernelspec": {
   "display_name": "Python 3 (ipykernel)",
   "language": "python",
   "name": "python3"
  },
  "language_info": {
   "codemirror_mode": {
    "name": "ipython",
    "version": 3
   },
   "file_extension": ".py",
   "mimetype": "text/x-python",
   "name": "python",
   "nbconvert_exporter": "python",
   "pygments_lexer": "ipython3",
   "version": "3.11.4"
  }
 },
 "nbformat": 4,
 "nbformat_minor": 5
}
