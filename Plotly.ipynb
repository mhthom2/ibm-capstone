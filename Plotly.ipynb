{
 "cells": [
  {
   "cell_type": "markdown",
   "id": "be03d4ba",
   "metadata": {},
   "source": [
    "# Interactive Dashboard with Ploty Dash"
   ]
  },
  {
   "cell_type": "code",
   "execution_count": null,
   "id": "bdc1f3da",
   "metadata": {},
   "outputs": [],
   "source": []
  }
 ],
 "metadata": {
  "kernelspec": {
   "display_name": "Python 3 (ipykernel)",
   "language": "python",
   "name": "python3"
  },
  "language_info": {
   "codemirror_mode": {
    "name": "ipython",
    "version": 3
   },
   "file_extension": ".py",
   "mimetype": "text/x-python",
   "name": "python",
   "nbconvert_exporter": "python",
   "pygments_lexer": "ipython3",
   "version": "3.11.4"
  }
 },
 "nbformat": 4,
 "nbformat_minor": 5
}
